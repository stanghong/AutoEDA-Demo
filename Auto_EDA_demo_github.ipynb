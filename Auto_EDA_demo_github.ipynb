{
 "cells": [
  {
   "cell_type": "markdown",
   "id": "3f670ae0",
   "metadata": {},
   "source": [
    "# Review of Three Notebook Based Auto EDA Tools"
   ]
  },
  {
   "cell_type": "code",
   "execution_count": 1,
   "id": "e3ed43ab-283c-47d4-9c8c-cc1198501ea1",
   "metadata": {},
   "outputs": [],
   "source": [
    "# !pip install autoviz\n",
    "# !pip install pandas_profiling"
   ]
  },
  {
   "cell_type": "code",
   "execution_count": 1,
   "id": "34250365-3888-4490-a171-fd3ac82b452c",
   "metadata": {},
   "outputs": [],
   "source": [
    "import pandas as pd\n",
    "import numpy as np\n",
    "\n",
    "%matplotlib inline"
   ]
  },
  {
   "cell_type": "markdown",
   "id": "d7b34fee-8499-4430-8a2e-e9a7dcd61d5b",
   "metadata": {},
   "source": [
    "# Dataset "
   ]
  },
  {
   "cell_type": "code",
   "execution_count": 2,
   "id": "ac4817d4-9ec8-431c-a298-74ba0fcb74f6",
   "metadata": {},
   "outputs": [],
   "source": [
    "world_skill=pd.read_csv('world-skill-standings.csv')"
   ]
  },
  {
   "cell_type": "code",
   "execution_count": 3,
   "id": "5c44602e-955b-4ac8-915e-cb0fb308c27f",
   "metadata": {},
   "outputs": [
    {
     "data": {
      "text/html": [
       "<div>\n",
       "<style scoped>\n",
       "    .dataframe tbody tr th:only-of-type {\n",
       "        vertical-align: middle;\n",
       "    }\n",
       "\n",
       "    .dataframe tbody tr th {\n",
       "        vertical-align: top;\n",
       "    }\n",
       "\n",
       "    .dataframe thead th {\n",
       "        text-align: right;\n",
       "    }\n",
       "</style>\n",
       "<table border=\"1\" class=\"dataframe\">\n",
       "  <thead>\n",
       "    <tr style=\"text-align: right;\">\n",
       "      <th></th>\n",
       "      <th>Rank</th>\n",
       "      <th>Score</th>\n",
       "      <th>Programming Skills</th>\n",
       "      <th>Driver Skills</th>\n",
       "      <th>Highest Programming Skills</th>\n",
       "      <th>Highest Driver Skills</th>\n",
       "      <th>Highest Programming Score Timestamp</th>\n",
       "      <th>Highest Driver Score Timestamp</th>\n",
       "      <th>Highest Programming Score Stop Time</th>\n",
       "      <th>Highest Driver Score Stop Time</th>\n",
       "      <th>Team Number</th>\n",
       "      <th>Team Name</th>\n",
       "      <th>Organization</th>\n",
       "      <th>Event Region</th>\n",
       "      <th>Country / Region</th>\n",
       "    </tr>\n",
       "  </thead>\n",
       "  <tbody>\n",
       "    <tr>\n",
       "      <th>0</th>\n",
       "      <td>1</td>\n",
       "      <td>423</td>\n",
       "      <td>212</td>\n",
       "      <td>211</td>\n",
       "      <td>212</td>\n",
       "      <td>211</td>\n",
       "      <td>2022-12-17 01:49:00</td>\n",
       "      <td>2022-12-17 01:42:37</td>\n",
       "      <td>0</td>\n",
       "      <td>0</td>\n",
       "      <td>58988H</td>\n",
       "      <td>n次方编程-超凡IQ</td>\n",
       "      <td>n次方编程</td>\n",
       "      <td>China</td>\n",
       "      <td>China</td>\n",
       "    </tr>\n",
       "    <tr>\n",
       "      <th>1</th>\n",
       "      <td>2</td>\n",
       "      <td>423</td>\n",
       "      <td>173</td>\n",
       "      <td>250</td>\n",
       "      <td>173</td>\n",
       "      <td>250</td>\n",
       "      <td>2023-01-07 15:23:48</td>\n",
       "      <td>2023-01-07 15:27:31</td>\n",
       "      <td>0</td>\n",
       "      <td>0</td>\n",
       "      <td>6699Z</td>\n",
       "      <td>WC</td>\n",
       "      <td>Taiwan Robotics Lab</td>\n",
       "      <td>Chinese Taipei</td>\n",
       "      <td>Taiwan</td>\n",
       "    </tr>\n",
       "    <tr>\n",
       "      <th>2</th>\n",
       "      <td>3</td>\n",
       "      <td>416</td>\n",
       "      <td>161</td>\n",
       "      <td>255</td>\n",
       "      <td>161</td>\n",
       "      <td>255</td>\n",
       "      <td>2023-01-21 22:33:25</td>\n",
       "      <td>2023-01-21 22:57:28</td>\n",
       "      <td>0</td>\n",
       "      <td>0</td>\n",
       "      <td>7452P</td>\n",
       "      <td>Pika Pika</td>\n",
       "      <td>NaN</td>\n",
       "      <td>Utah</td>\n",
       "      <td>United States</td>\n",
       "    </tr>\n",
       "  </tbody>\n",
       "</table>\n",
       "</div>"
      ],
      "text/plain": [
       "   Rank  Score  Programming Skills  Driver Skills  Highest Programming Skills  \\\n",
       "0     1    423                 212            211                         212   \n",
       "1     2    423                 173            250                         173   \n",
       "2     3    416                 161            255                         161   \n",
       "\n",
       "   Highest Driver Skills Highest Programming Score Timestamp  \\\n",
       "0                    211                 2022-12-17 01:49:00   \n",
       "1                    250                 2023-01-07 15:23:48   \n",
       "2                    255                 2023-01-21 22:33:25   \n",
       "\n",
       "  Highest Driver Score Timestamp  Highest Programming Score Stop Time  \\\n",
       "0            2022-12-17 01:42:37                                    0   \n",
       "1            2023-01-07 15:27:31                                    0   \n",
       "2            2023-01-21 22:57:28                                    0   \n",
       "\n",
       "   Highest Driver Score Stop Time Team Number   Team Name  \\\n",
       "0                               0      58988H  n次方编程-超凡IQ   \n",
       "1                               0       6699Z          WC   \n",
       "2                               0       7452P   Pika Pika   \n",
       "\n",
       "          Organization    Event Region Country / Region  \n",
       "0                n次方编程           China            China  \n",
       "1  Taiwan Robotics Lab  Chinese Taipei           Taiwan  \n",
       "2                  NaN            Utah    United States  "
      ]
     },
     "execution_count": 3,
     "metadata": {},
     "output_type": "execute_result"
    }
   ],
   "source": [
    "world_skill.head(3)"
   ]
  },
  {
   "cell_type": "markdown",
   "id": "78432a8a-80e0-4c94-9279-af6d484db027",
   "metadata": {},
   "source": [
    "# pandas_profiling"
   ]
  },
  {
   "cell_type": "code",
   "execution_count": 4,
   "id": "76252b75-3664-4529-94a5-feb3c4b74b63",
   "metadata": {
    "tags": []
   },
   "outputs": [
    {
     "data": {
      "application/vnd.jupyter.widget-view+json": {
       "model_id": "d2ab4b3792884e3e9b9bca02b7bdcf87",
       "version_major": 2,
       "version_minor": 0
      },
      "text/plain": [
       "Summarize dataset:   0%|          | 0/5 [00:00<?, ?it/s]"
      ]
     },
     "metadata": {},
     "output_type": "display_data"
    },
    {
     "data": {
      "application/vnd.jupyter.widget-view+json": {
       "model_id": "7d9d7bd45b4446f391b53bf251260b6a",
       "version_major": 2,
       "version_minor": 0
      },
      "text/plain": [
       "Generate report structure:   0%|          | 0/1 [00:00<?, ?it/s]"
      ]
     },
     "metadata": {},
     "output_type": "display_data"
    },
    {
     "data": {
      "application/vnd.jupyter.widget-view+json": {
       "model_id": "23f9b918444b4517847046d9a618dde6",
       "version_major": 2,
       "version_minor": 0
      },
      "text/plain": [
       "Render HTML:   0%|          | 0/1 [00:00<?, ?it/s]"
      ]
     },
     "metadata": {},
     "output_type": "display_data"
    },
    {
     "data": {
      "application/vnd.jupyter.widget-view+json": {
       "model_id": "0d1a769ba0ad4b8eb91fea82e86067e2",
       "version_major": 2,
       "version_minor": 0
      },
      "text/plain": [
       "Export report to file:   0%|          | 0/1 [00:00<?, ?it/s]"
      ]
     },
     "metadata": {},
     "output_type": "display_data"
    }
   ],
   "source": [
    "import pandas_profiling\n",
    "profile = pandas_profiling.ProfileReport(world_skill)\n",
    "\n",
    "# Save the report as an HTML file\n",
    "profile.to_file(\"output.html\")"
   ]
  },
  {
   "cell_type": "code",
   "execution_count": 7,
   "id": "c7f6a0c1-eef6-4b40-a222-33f3db1a0706",
   "metadata": {},
   "outputs": [],
   "source": [
    "# html_report = report.to_html()\n",
    "\n",
    "# # Save the HTML string to a file\n",
    "# with open(\"EDA_Report.html\", \"w\") as f:\n",
    "#     f.write(html_report)"
   ]
  },
  {
   "cell_type": "code",
   "execution_count": 9,
   "id": "261cb8c2-2edf-4718-9fbf-5db47f6f0e9e",
   "metadata": {},
   "outputs": [
    {
     "data": {
      "application/vnd.jupyter.widget-view+json": {
       "model_id": "9cb594f234ae492f8485840606d5943e",
       "version_major": 2,
       "version_minor": 0
      },
      "text/plain": [
       "Summarize dataset:   0%|          | 0/5 [00:00<?, ?it/s]"
      ]
     },
     "metadata": {},
     "output_type": "display_data"
    },
    {
     "data": {
      "application/vnd.jupyter.widget-view+json": {
       "model_id": "5ae0b00a8c2846e3acbaeda0ffdf7ee7",
       "version_major": 2,
       "version_minor": 0
      },
      "text/plain": [
       "Generate report structure:   0%|          | 0/1 [00:00<?, ?it/s]"
      ]
     },
     "metadata": {},
     "output_type": "display_data"
    },
    {
     "data": {
      "application/vnd.jupyter.widget-view+json": {
       "model_id": "96b63c97695c498480bc7c1402dc57ed",
       "version_major": 2,
       "version_minor": 0
      },
      "text/plain": [
       "Render HTML:   0%|          | 0/1 [00:00<?, ?it/s]"
      ]
     },
     "metadata": {},
     "output_type": "display_data"
    },
    {
     "data": {
      "application/vnd.jupyter.widget-view+json": {
       "model_id": "bab740dff6b14d99897253f645ff6f25",
       "version_major": 2,
       "version_minor": 0
      },
      "text/plain": [
       "Export report to file:   0%|          | 0/1 [00:00<?, ?it/s]"
      ]
     },
     "metadata": {},
     "output_type": "display_data"
    }
   ],
   "source": [
    "profile = pandas_profiling.ProfileReport(rain_df)\n",
    "\n",
    "# Save the report as an HTML file\n",
    "profile.to_file(\"output.html\")"
   ]
  },
  {
   "cell_type": "markdown",
   "id": "59aaaeb4-5719-4664-b7b0-80b77e5bc715",
   "metadata": {},
   "source": [
    "# Auto Viz"
   ]
  },
  {
   "cell_type": "code",
   "execution_count": 13,
   "id": "6d585a88-d379-4afd-9433-456b344dbded",
   "metadata": {},
   "outputs": [],
   "source": [
    "from autoviz.AutoViz_Class import AutoViz_Class"
   ]
  },
  {
   "cell_type": "code",
   "execution_count": 14,
   "id": "a0121b16-e53b-466e-a958-8174330ddab2",
   "metadata": {},
   "outputs": [],
   "source": [
    "\n",
    "AV = AutoViz_Class()"
   ]
  },
  {
   "cell_type": "code",
   "execution_count": 15,
   "id": "0fc9b1c7-b7ef-4b6d-ba8e-f4a7eda9b16a",
   "metadata": {},
   "outputs": [],
   "source": [
    "world_skill.columns\n",
    "unwanted=['Highest Programming Score Timestamp', 'Highest Driver Score Timestamp',\\\n",
    "                   'Highest Programming Score Stop Time', 'Highest Driver Score Stop Time']\n",
    "selected_features=[x for x in world_skill.columns if x not in unwanted]"
   ]
  },
  {
   "cell_type": "code",
   "execution_count": 16,
   "id": "bf5e6a1d-7677-4f28-8c97-ad78a7e8878c",
   "metadata": {},
   "outputs": [],
   "source": [
    "world_skill.head(2)\n",
    "world_skill_df=world_skill[selected_features]\n",
    "world_skill_df.to_csv('world_skill_df.csv')"
   ]
  },
  {
   "cell_type": "markdown",
   "id": "70ca2d79",
   "metadata": {},
   "source": [
    "dft = AV.AutoViz('world_skill_df.csv')"
   ]
  },
  {
   "cell_type": "markdown",
   "id": "98fe43b7",
   "metadata": {},
   "source": [
    "df = AV.AutoViz('world-skill-standings.csv', depVar='Rank')"
   ]
  },
  {
   "cell_type": "markdown",
   "id": "73b78c52-d3d9-4851-bf5a-ea148c17fc58",
   "metadata": {},
   "source": [
    "# Sweet Viz"
   ]
  },
  {
   "cell_type": "code",
   "execution_count": 22,
   "id": "d4497658-f702-4a4b-ba0b-af3359956ccd",
   "metadata": {},
   "outputs": [],
   "source": [
    "# !pip install sweetviz "
   ]
  },
  {
   "cell_type": "code",
   "execution_count": 19,
   "id": "6d59b9ca-f4db-43a2-a3f0-308e02a9d21a",
   "metadata": {},
   "outputs": [
    {
     "data": {
      "application/vnd.jupyter.widget-view+json": {
       "model_id": "727ad925298c49338505000a4ed41638",
       "version_major": 2,
       "version_minor": 0
      },
      "text/plain": [
       "                                             |      | [  0%]   00:00 -> (? left)"
      ]
     },
     "metadata": {},
     "output_type": "display_data"
    },
    {
     "name": "stdout",
     "output_type": "stream",
     "text": [
      "Report EDA_Report.html was generated! NOTEBOOK/COLAB USERS: the web browser MAY not pop up, regardless, the report IS saved in your notebook/colab files.\n"
     ]
    }
   ],
   "source": [
    "import sweetviz as sv\n",
    "import pandas as pd\n",
    "\n",
    "\n",
    "# Generate the EDA report\n",
    "report = sv.analyze(world_skill)\n",
    "\n",
    "# Save the report as an HTML file\n",
    "report.show_html(\"EDA_Report.html\")"
   ]
  },
  {
   "cell_type": "code",
   "execution_count": 19,
   "id": "27ccec25-f5e6-4376-86bb-dc05a1bb9129",
   "metadata": {},
   "outputs": [
    {
     "data": {
      "application/vnd.jupyter.widget-view+json": {
       "model_id": "af6ceaae85f74580920d102a4ebc1812",
       "version_major": 2,
       "version_minor": 0
      },
      "text/plain": [
       "                                             |      | [  0%]   00:00 -> (? left)"
      ]
     },
     "metadata": {},
     "output_type": "display_data"
    },
    {
     "name": "stdout",
     "output_type": "stream",
     "text": [
      "Report EDA_Report.html was generated! NOTEBOOK/COLAB USERS: the web browser MAY not pop up, regardless, the report IS saved in your notebook/colab files.\n"
     ]
    }
   ],
   "source": [
    "\n",
    "report = sv.analyze(rain_model)\n",
    "\n",
    "# Save the report as an HTML file\n",
    "report.show_html(\"EDA_Report.html\")"
   ]
  },
  {
   "cell_type": "markdown",
   "id": "4d7cfa1f-ff9a-4147-8075-dcc54d656ead",
   "metadata": {},
   "source": [
    "### Nice outcome!"
   ]
  },
  {
   "cell_type": "code",
   "execution_count": null,
   "id": "95aa49f2-acd8-43b6-8773-c752cab6207b",
   "metadata": {},
   "outputs": [],
   "source": []
  }
 ],
 "metadata": {
  "kernelspec": {
   "display_name": "Python 3 (ipykernel)",
   "language": "python",
   "name": "python3"
  },
  "language_info": {
   "codemirror_mode": {
    "name": "ipython",
    "version": 3
   },
   "file_extension": ".py",
   "mimetype": "text/x-python",
   "name": "python",
   "nbconvert_exporter": "python",
   "pygments_lexer": "ipython3",
   "version": "3.9.7"
  },
  "toc-autonumbering": true
 },
 "nbformat": 4,
 "nbformat_minor": 5
}
